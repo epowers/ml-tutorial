# Machine Learning Tutorial with Pytorch

Our intent is to present a simple introduction tutorial to machine learning through simple examples that implement the key concepts of neural network systems.

* [Lesson 01: Everything Is An Equation](./Lesson01/lesson01.ipynb)
* Lesson 02: Training a Single Linear Neuron
* Lesson 03: What is a Tensor?
* Lesson 04: Training Data In, Approximations Out
* Lesson 05: Designing Two Pipelines
